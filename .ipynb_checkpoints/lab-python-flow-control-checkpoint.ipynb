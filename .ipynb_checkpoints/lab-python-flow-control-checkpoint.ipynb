{
 "cells": [
  {
   "cell_type": "markdown",
   "id": "d3bfc191-8885-42ee-b0a0-bbab867c6f9f",
   "metadata": {
    "tags": []
   },
   "source": [
    "# Lab | Flow Control"
   ]
  },
  {
   "cell_type": "markdown",
   "id": "303cceb0-f898-4c5f-99bd-c04e131e1ded",
   "metadata": {},
   "source": [
    "Objective: Practice how to use programming constructs like if/else statements and loops to control the flow of a program's execution."
   ]
  },
  {
   "cell_type": "markdown",
   "id": "42fd260a-9eb2-4c39-9989-f2c8c70552ec",
   "metadata": {},
   "source": [
    "## Challenge: The Haunted Mansion"
   ]
  },
  {
   "cell_type": "markdown",
   "id": "7086f8f7-ded2-48e5-b966-7ec44fb57ca5",
   "metadata": {},
   "source": [
    "You are a brave adventurer who has decided to explore the Haunted Mansion, a decrepit old building that is rumored to be haunted by ghosts and spirits. Your objective is to find the treasure that is hidden somewhere in the mansion.\n",
    "\n",
    "## Requirements\n",
    "\n",
    "- Your script should have at least two functions: \"run_mansion()\" and \"encounter_ghost()\".\n",
    "- Your script should use if-else statements, while loops, for loops, combined loops, or nested loops to control the flow of execution.\n",
    "- Your script should prompt the user for input to make decisions on which path to take or what actions to perform.\n",
    "- Your script should include random events and obstacles that can either help or hinder the adventurer in their quest.\n",
    "- Your script should have an objective of finding the treasure at the end of the mansion.\n",
    "\n",
    "## Instructions\n",
    "\n",
    "- Begin by creating a list of items that the adventurer can pick up along the way. These items will be used to help the adventurer overcome obstacles and defeat ghosts. Examples of items can be weapons, potions, keys, etc.\n",
    "\n",
    "- Complete the function called \"run_mansion()\" that serves as the main function for the game. Within \"run_mansion()\", prompt the user to choose a path to take at each intersection. Each path should have its unique challenges and obstacles that the adventurer must overcome.\n",
    "\n",
    "- Use loops to check if the adventurer has enough health points to continue the game. If their health points drop to zero, the game is over.\n",
    "\n",
    "- Complete the function called \"encounter_ghost()\" that will be used to handle ghost encounters. The function should use random events to determine the outcome of the encounter, and the adventurer should use their items to help them defeat the ghost.\n",
    "\n",
    "- Use loops to generate random events or items along the way. These events can either help or hinder the adventurer, and the outcome should be based on random chance.\n",
    "\n",
    "- At the end of the mansion, the adventurer will find the treasure, and the game will end.\n",
    "\n"
   ]
  },
  {
   "cell_type": "markdown",
   "id": "8846d61d-cf9d-4ad4-bbb8-1ecb3bb22005",
   "metadata": {},
   "source": [
    "*Introduction to Functions*:\n",
    "\n",
    "    Functions are blocks of code that perform a specific task. They are used to break up complex code into smaller, more manageable parts, which can make your code easier to read and understand. Functions can also be reused multiple times throughout your code, which can save you a lot of time and effort.\n",
    "\n",
    "    Functions are defined using the def keyword, followed by the name of the function and a set of parentheses. Inside the parentheses, you can list any arguments that the function needs in order to perform its task. These arguments are optional, but they can be useful if you need to pass data into the function from outside.\n",
    "\n",
    "    Once you have defined a function, you can call it from anywhere in your code using its name and passing any necessary arguments. When the function is called, the code inside it is executed, and any values that it returns are passed back to the calling code.\n",
    "\n",
    "    In this exercise, we have defined a function called encounter_ghost that simulates a battle between the adventurer and a ghost, and run_mansion. Your task is to complete these functions by using flow control statements such as if, else, while, for loops, and nested loops. Remember to pay attention to the instructions and comments provided in the function to help guide you. Once you have completed the function encounter_ghost, you can call it from the main code to simulate the battle and test your implementation.\n",
    "\n",
    "    Good luck!"
   ]
  },
  {
   "cell_type": "code",
   "execution_count": 42,
   "id": "499552c8-9e30-46e1-a706-4ac5dc64670e",
   "metadata": {},
   "outputs": [],
   "source": [
    "def encounter_ghost():\n",
    "    \"\"\"\n",
    "    This function handles the encounter with a ghost. \n",
    "    The outcome of the battle is determined by a random number between 1 and 10.\n",
    "    If the random number is less than or equal to 5, the adventurer defeats the ghost. In this case, print the message \"You defeated the ghost!\" \n",
    "    and return something that indicates the adventurer defeated the ghost.\n",
    "    If the random number is greater than 5, the adventurer loses the battle. In this case, print \"You lost the battle...\"\n",
    "    and return something that indicates the ghost defeated the adventurer.\n",
    "    \"\"\"\n",
    "    print(\"You encounter a ghost!\")\n",
    "    random_number = random.randint(1,10)\n",
    "    if random_number <= 5:\n",
    "        print(\"You defeated the ghost!\")\n",
    "        return True\n",
    "    else:\n",
    "        print(\"You lost the battle...\")\n",
    "        lost = True\n",
    "        return False"
   ]
  },
  {
   "cell_type": "code",
   "execution_count": 76,
   "id": "d3e4076b-48cc-41ac-95ad-891743e775f5",
   "metadata": {},
   "outputs": [],
   "source": [
    "# main function for the game\n",
    "import random\n",
    "\n",
    "def run_mansion():\n",
    "    \n",
    "    print(\"Welcome to the Haunted Mansion!\")\n",
    "    \n",
    "    \"\"\"\n",
    "    Simulates an adventure through a haunted mansion. The adventurer starts with 10 health points and no items.\n",
    "    Prompt the user to choose between two paths: \"left\" or \"right\". \n",
    "\n",
    "    If they choose \"left\", a random event occurs. There is a 50% chance that the adventurer will find a potion and a 50% chance that they will \n",
    "    fall into a trap and lose 2 health points. If they find the potion, it is saved into the adventurer's items. \n",
    "    If they fall into a trap, 2 points are taken out of the adventurer's health points.\n",
    "\n",
    "    If they choose \"right\", the \"encounter_ghost()\" function is called to handle the battle between the adventurer and the ghost. \n",
    "    If the adventurer wins, they find a key which is saved into the adventurer's items. If they lose, they lose 2 health points.\n",
    "    Hint: remember to check what encounter_ghost() returned to make know if they won or lost.\n",
    "\n",
    "    If the adventurer chooses something other than \"left\" or \"right\", they are prompted to try again.\n",
    "\n",
    "    If the adventurer's health points reach 0 or less, the message \"Game over, you lost all your health points.\" is printed.\n",
    "\n",
    "    If the adventurer has the key, they can unlock the door and find the Treasure. This message is printed \"You unlocked the door and found the \n",
    "    Treasure! Congratulations!\".\n",
    "    If they don't have the key, they are prompted to find it from the beginning.\n",
    "\n",
    "    \"\"\"\n",
    "     \n",
    "    # your code goes here\n",
    "    item_list = ['key','bat','water bottle','phone']\n",
    "    event_list = [\"You fell into a trap and have lost 2 health points.\",\"You've found a potion under a rock, your health is increased!\"]\n",
    "    items_collected = {}\n",
    "    current_health = {'Health':10}\n",
    "    \n",
    "    while current_health['Health'] > 0:\n",
    "\n",
    "        #Choosing between two paths\n",
    "        user_path = input('There are two paths ahead of you, left or right. Please type where would you like to go.').lower().strip()\n",
    "        \n",
    "        if user_path == 'left':\n",
    "            #random event occurs\n",
    "            event = random.choice(event_list)\n",
    "            \n",
    "            #event is equal to trap, lose 2 points.\n",
    "            if event == event_list[0]:\n",
    "                current_health['Health'] -= 2\n",
    "                print(event)\n",
    "                print(f\"Your current health is: {current_health['Health']}\")\n",
    "                \n",
    "            #event is equal to potion, add to items collected.\n",
    "            else:\n",
    "                current_health['Health'] += 1\n",
    "                print(event)\n",
    "                print(f\"Your current health is: {current_health['Health']}\")\n",
    "                \n",
    "        elif user_path == 'right':\n",
    "            #do something else\n",
    "            result = encounter_ghost()\n",
    "            if result == True:\n",
    "                items_collected['key'] = 1\n",
    "                print(\"You've collected a key, this has been saved to your backpack\")\n",
    "            else:\n",
    "                current_health['Health'] -= 2\n",
    "                print(\"You've lost 2 health points\")\n",
    "                print(f\"Your current health is: {current_health['Health']}\")\n",
    "        else:\n",
    "            print(\"Invalid choice. Please type 'left' or 'right'.\")\n",
    "\n",
    "        if current_health['Health'] <= 0:\n",
    "            print(\"Game over, you lost all your health points.\")\n",
    "            break\n",
    "        \n",
    "        if 'key' in items_collected:\n",
    "            print(\"You unlocked the door and found the treasure! Congratulations!\")\n",
    "            print(\"Game over.\")\n",
    "            break\n",
    "            "
   ]
  },
  {
   "cell_type": "markdown",
   "id": "9e13a33c-38e5-44b3-bd1b-9a642c962c89",
   "metadata": {},
   "source": [
    "To run the game, simply call the run_mansion() function:"
   ]
  },
  {
   "cell_type": "code",
   "execution_count": 78,
   "id": "f238dc90-0be2-4d8c-93e9-30a1dc8a5b72",
   "metadata": {},
   "outputs": [
    {
     "name": "stdout",
     "output_type": "stream",
     "text": [
      "Welcome to the Haunted Mansion!\n"
     ]
    },
    {
     "name": "stdin",
     "output_type": "stream",
     "text": [
      "There are two paths ahead of you, left or right. Please type where would you like to go. right\n"
     ]
    },
    {
     "name": "stdout",
     "output_type": "stream",
     "text": [
      "You encounter a ghost!\n",
      "You defeated the ghost!\n",
      "You've collected a key, this has been saved to your backpack\n",
      "You unlocked the door and found the treasure! Congratulations!\n",
      "Game over.\n"
     ]
    }
   ],
   "source": [
    "run_mansion()"
   ]
  },
  {
   "cell_type": "markdown",
   "id": "88212f63-3bdb-479f-bf6c-4ecd0685d39a",
   "metadata": {},
   "source": [
    "This should print the game's narrative and prompt the user to make choices and fight ghosts. The game ends when the adventurer finds the key or loses all their health points. "
   ]
  }
 ],
 "metadata": {
  "kernelspec": {
   "display_name": "Python 3 (ipykernel)",
   "language": "python",
   "name": "python3"
  },
  "language_info": {
   "codemirror_mode": {
    "name": "ipython",
    "version": 3
   },
   "file_extension": ".py",
   "mimetype": "text/x-python",
   "name": "python",
   "nbconvert_exporter": "python",
   "pygments_lexer": "ipython3",
   "version": "3.12.7"
  }
 },
 "nbformat": 4,
 "nbformat_minor": 5
}
